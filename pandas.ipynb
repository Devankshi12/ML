{
  "nbformat": 4,
  "nbformat_minor": 0,
  "metadata": {
    "colab": {
      "provenance": [],
      "authorship_tag": "ABX9TyNif55uYv+KcyJWFbPww429",
      "include_colab_link": true
    },
    "kernelspec": {
      "name": "python3",
      "display_name": "Python 3"
    },
    "language_info": {
      "name": "python"
    }
  },
  "cells": [
    {
      "cell_type": "markdown",
      "metadata": {
        "id": "view-in-github",
        "colab_type": "text"
      },
      "source": [
        "<a href=\"https://colab.research.google.com/github/Devankshi12/ML/blob/main/pandas.ipynb\" target=\"_parent\"><img src=\"https://colab.research.google.com/assets/colab-badge.svg\" alt=\"Open In Colab\"/></a>"
      ]
    },
    {
      "cell_type": "markdown",
      "source": [
        "Pandas is a powerful data manipulation library in pyhton.used for data analysis and data cleaning"
      ],
      "metadata": {
        "id": "nVxzzccQVj_z"
      }
    },
    {
      "cell_type": "code",
      "source": [
        "import pandas as pd"
      ],
      "metadata": {
        "id": "9iXkAOzCWbsl"
      },
      "execution_count": null,
      "outputs": []
    },
    {
      "cell_type": "code",
      "source": [
        "#series\n",
        "#a pandas series is a 1d array-like obj that can hold ay data type\n",
        "\n",
        "import pandas as pd\n",
        "data=[1,2,333,45,5]\n",
        "series=pd.Series(data)\n",
        "print(\"Series\\n\",series)"
      ],
      "metadata": {
        "colab": {
          "base_uri": "https://localhost:8080/"
        },
        "id": "bgqgt_bvWnki",
        "outputId": "28bdf5ab-0986-4d14-cf27-cd30767bb0a0"
      },
      "execution_count": null,
      "outputs": [
        {
          "output_type": "stream",
          "name": "stdout",
          "text": [
            "Series\n",
            " 0      1\n",
            "1      2\n",
            "2    333\n",
            "3     45\n",
            "4      5\n",
            "dtype: int64\n"
          ]
        }
      ]
    },
    {
      "cell_type": "code",
      "source": [
        " #create series from dictionary\n",
        " data={'a':1,'b':2,'c':3}\n",
        " series_dict=pd.Series(data)\n",
        " print(series_dict)"
      ],
      "metadata": {
        "colab": {
          "base_uri": "https://localhost:8080/"
        },
        "id": "TWv02qahW_ME",
        "outputId": "e350cbcb-d496-4711-ea13-52347b62a784"
      },
      "execution_count": null,
      "outputs": [
        {
          "output_type": "stream",
          "name": "stdout",
          "text": [
            "a    1\n",
            "b    2\n",
            "c    3\n",
            "dtype: int64\n"
          ]
        }
      ]
    },
    {
      "cell_type": "code",
      "source": [
        "data=[10,20,30]\n",
        "index=['a','b','c']\n",
        "pd.Series(data,index=index)"
      ],
      "metadata": {
        "colab": {
          "base_uri": "https://localhost:8080/",
          "height": 178
        },
        "id": "8juyS3FbXUCU",
        "outputId": "a030af6a-5762-4e88-919e-9667e92c7b18"
      },
      "execution_count": null,
      "outputs": [
        {
          "output_type": "execute_result",
          "data": {
            "text/plain": [
              "a    10\n",
              "b    20\n",
              "c    30\n",
              "dtype: int64"
            ],
            "text/html": [
              "<div>\n",
              "<style scoped>\n",
              "    .dataframe tbody tr th:only-of-type {\n",
              "        vertical-align: middle;\n",
              "    }\n",
              "\n",
              "    .dataframe tbody tr th {\n",
              "        vertical-align: top;\n",
              "    }\n",
              "\n",
              "    .dataframe thead th {\n",
              "        text-align: right;\n",
              "    }\n",
              "</style>\n",
              "<table border=\"1\" class=\"dataframe\">\n",
              "  <thead>\n",
              "    <tr style=\"text-align: right;\">\n",
              "      <th></th>\n",
              "      <th>0</th>\n",
              "    </tr>\n",
              "  </thead>\n",
              "  <tbody>\n",
              "    <tr>\n",
              "      <th>a</th>\n",
              "      <td>10</td>\n",
              "    </tr>\n",
              "    <tr>\n",
              "      <th>b</th>\n",
              "      <td>20</td>\n",
              "    </tr>\n",
              "    <tr>\n",
              "      <th>c</th>\n",
              "      <td>30</td>\n",
              "    </tr>\n",
              "  </tbody>\n",
              "</table>\n",
              "</div><br><label><b>dtype:</b> int64</label>"
            ]
          },
          "metadata": {},
          "execution_count": 5
        }
      ]
    },
    {
      "cell_type": "code",
      "source": [
        "##dataframe\n",
        "#create a dataframe from a dictionary of list\n",
        "data={\n",
        "    'Name':['Krish','John','Jack'],\n",
        "    'Age':[23,34,34],\n",
        "    'City':['bang','ny','us']\n",
        "}\n",
        "df=pd.DataFrame(data)\n",
        "print(df)\n",
        "print(type(df))"
      ],
      "metadata": {
        "colab": {
          "base_uri": "https://localhost:8080/"
        },
        "id": "ksRu60LAXkim",
        "outputId": "d682d1ff-ba15-44d2-f66d-4974936a553c"
      },
      "execution_count": null,
      "outputs": [
        {
          "output_type": "stream",
          "name": "stdout",
          "text": [
            "    Name  Age  City\n",
            "0  Krish   23  bang\n",
            "1   John   34    ny\n",
            "2   Jack   34    us\n",
            "<class 'pandas.core.frame.DataFrame'>\n"
          ]
        }
      ]
    },
    {
      "cell_type": "code",
      "source": [
        "#create a data frame from list of dictionaries\n",
        "\n",
        "data=[\n",
        "    { 'name': 'krish','age':32,'city':'bangalore'},\n",
        "     { 'name': 'john','age':34,'city':'bangalore'},\n",
        "      { 'name': 'gol','age':32,'city':'bangalore'},\n",
        "       { 'name': 'ddkj','age':32,'city':'bangalore'},\n",
        "]\n",
        "df=pd.DataFrame(data)\n",
        "print(df)\n",
        "print(type(df))\n",
        "\n"
      ],
      "metadata": {
        "id": "PMAmWEgVYdM8",
        "colab": {
          "base_uri": "https://localhost:8080/"
        },
        "outputId": "770322e6-eee3-4851-ea07-d777650cb5bb"
      },
      "execution_count": null,
      "outputs": [
        {
          "output_type": "stream",
          "name": "stdout",
          "text": [
            "    name  age       city\n",
            "0  krish   32  bangalore\n",
            "1   john   34  bangalore\n",
            "2    gol   32  bangalore\n",
            "3   ddkj   32  bangalore\n",
            "<class 'pandas.core.frame.DataFrame'>\n"
          ]
        }
      ]
    },
    {
      "cell_type": "code",
      "source": [],
      "metadata": {
        "id": "q3LKcwr28gjj"
      },
      "execution_count": null,
      "outputs": []
    }
  ]
}