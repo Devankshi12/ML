{
  "nbformat": 4,
  "nbformat_minor": 0,
  "metadata": {
    "colab": {
      "provenance": [],
      "authorship_tag": "ABX9TyP0kAdPNVTJgnCRKFFnRYcM",
      "include_colab_link": true
    },
    "kernelspec": {
      "name": "python3",
      "display_name": "Python 3"
    },
    "language_info": {
      "name": "python"
    }
  },
  "cells": [
    {
      "cell_type": "markdown",
      "metadata": {
        "id": "view-in-github",
        "colab_type": "text"
      },
      "source": [
        "<a href=\"https://colab.research.google.com/github/Devankshi12/ML/blob/main/sqlite.ipynb\" target=\"_parent\"><img src=\"https://colab.research.google.com/assets/colab-badge.svg\" alt=\"Open In Colab\"/></a>"
      ]
    },
    {
      "cell_type": "markdown",
      "source": [
        "SQL AND SQLite\n"
      ],
      "metadata": {
        "id": "iRR-jLMW3s9u"
      }
    },
    {
      "cell_type": "code",
      "execution_count": 1,
      "metadata": {
        "id": "5j9HnIr53r32"
      },
      "outputs": [],
      "source": [
        "import sqlite3"
      ]
    },
    {
      "cell_type": "code",
      "source": [
        " ##connect to an SQLite\n",
        " connection=sqlite3.connect('example.db')\n",
        " connection"
      ],
      "metadata": {
        "colab": {
          "base_uri": "https://localhost:8080/"
        },
        "id": "yYV-JIyB4COq",
        "outputId": "9a52eb60-6e74-47be-a99a-26191ef3ff8b"
      },
      "execution_count": 2,
      "outputs": [
        {
          "output_type": "execute_result",
          "data": {
            "text/plain": [
              "<sqlite3.Connection at 0x7f45bf600840>"
            ]
          },
          "metadata": {},
          "execution_count": 2
        }
      ]
    },
    {
      "cell_type": "code",
      "source": [
        "cursor=connection.cursor()\n"
      ],
      "metadata": {
        "id": "eDYF-DM84S8-"
      },
      "execution_count": 3,
      "outputs": []
    },
    {
      "cell_type": "code",
      "source": [
        "#create a table\n",
        "cursor.execute('''\n",
        "create table If Not Exists employees(\n",
        "    id Integer Primary Key,\n",
        "    name Text NOt Null,\n",
        "    age Integer,\n",
        "    department text\n",
        "    )\n",
        "''')\n",
        "#commit the changes\n",
        "connection.commit()"
      ],
      "metadata": {
        "id": "eydoThho4byW"
      },
      "execution_count": 5,
      "outputs": []
    },
    {
      "cell_type": "code",
      "source": [
        "cursor.execute('''\n",
        "Select * from employees\n",
        "\n",
        "\n",
        "''')"
      ],
      "metadata": {
        "colab": {
          "base_uri": "https://localhost:8080/"
        },
        "id": "ekIE7tu2494c",
        "outputId": "5fa6894f-afe9-4dfa-ef5c-b0a3afcbd363"
      },
      "execution_count": 6,
      "outputs": [
        {
          "output_type": "execute_result",
          "data": {
            "text/plain": [
              "<sqlite3.Cursor at 0x7f459a7cbc40>"
            ]
          },
          "metadata": {},
          "execution_count": 6
        }
      ]
    },
    {
      "cell_type": "code",
      "source": [
        "##insert the data in sqlite table\n",
        "cursor.execute('''\n",
        "Insert Into employees(name,age,department)\n",
        "                values('deva',21,'IT')\n",
        "''')\n",
        "\n",
        "cursor.execute('''\n",
        "INSERT INTO employees (name,age,department)\n",
        "VALUES('Bob',23,'Engineering')\n",
        "''')\n",
        "\n",
        "cursor.execute('''\n",
        "INSERT INTO employees(name,age,department)\n",
        "VALUES('charl',33,'Finance')\n",
        "\n",
        "''')\n",
        "\n",
        "#commit changes\n",
        "connection.commit()"
      ],
      "metadata": {
        "id": "RAlKvFvM5QdH"
      },
      "execution_count": 7,
      "outputs": []
    },
    {
      "cell_type": "code",
      "source": [
        "##Query the data from table\n",
        "cursor.execute('Select * from employees')\n",
        "rows=cursor.fetchall()\n",
        "\n",
        "##print the queried data\n",
        "for row in rows:\n",
        "    print(row)"
      ],
      "metadata": {
        "colab": {
          "base_uri": "https://localhost:8080/"
        },
        "id": "7NK1n29c6RjK",
        "outputId": "a09e05bf-49b2-45ec-e90b-83fe05e84bc1"
      },
      "execution_count": 8,
      "outputs": [
        {
          "output_type": "stream",
          "name": "stdout",
          "text": [
            "(1, 'deva', 21, 'IT')\n",
            "(2, 'Bob', 23, 'Engineering')\n",
            "(3, 'charl', 33, 'Finance')\n"
          ]
        }
      ]
    },
    {
      "cell_type": "code",
      "source": [
        "##update the data in table\n",
        "cursor.execute('''\n",
        "UPDATE employees\n",
        "Set age=34\n",
        "where name=\"deva\"\n",
        "''')\n",
        "connection.commit()"
      ],
      "metadata": {
        "id": "p0TpkBCP6gGP"
      },
      "execution_count": 10,
      "outputs": []
    },
    {
      "cell_type": "code",
      "source": [
        " ##Query the data from the table\n",
        " cursor.execute('Select * from employees')\n",
        " ros=ws=cursor.fetchall()\n",
        "\n",
        " ##print the queried data\n",
        "\n",
        " for row in rows:\n",
        "     print(row)"
      ],
      "metadata": {
        "colab": {
          "base_uri": "https://localhost:8080/"
        },
        "id": "g1Af0EVO7VR4",
        "outputId": "d95fbd92-3a62-475d-d1fb-d34a2fb09d17"
      },
      "execution_count": 11,
      "outputs": [
        {
          "output_type": "stream",
          "name": "stdout",
          "text": [
            "(1, 'deva', 21, 'IT')\n",
            "(2, 'Bob', 23, 'Engineering')\n",
            "(3, 'charl', 33, 'Finance')\n"
          ]
        }
      ]
    },
    {
      "cell_type": "code",
      "source": [
        "##delete from table\n",
        "cursor.execute('''\n",
        "Delete from employees\n",
        "              where name = 'Bob'\n",
        "''')\n",
        "connection.commit()"
      ],
      "metadata": {
        "id": "gFOXsWA08N53"
      },
      "execution_count": 12,
      "outputs": []
    },
    {
      "cell_type": "code",
      "source": [
        "#query the data\n",
        "cursor.execute('Select * from employees')\n",
        "rows=cursor.fetchall()\n",
        "\n",
        "##print queried data\n",
        "\n",
        "for row in rows:\n",
        "    print(row)"
      ],
      "metadata": {
        "colab": {
          "base_uri": "https://localhost:8080/"
        },
        "id": "xzDFv4pT8nXd",
        "outputId": "5d9e1000-2264-4582-f7df-7ed8021b284a"
      },
      "execution_count": 13,
      "outputs": [
        {
          "output_type": "stream",
          "name": "stdout",
          "text": [
            "(1, 'deva', 34, 'IT')\n",
            "(3, 'charl', 33, 'Finance')\n"
          ]
        }
      ]
    },
    {
      "cell_type": "code",
      "source": [],
      "metadata": {
        "id": "3rqpC7nk9Aw1"
      },
      "execution_count": null,
      "outputs": []
    }
  ]
}