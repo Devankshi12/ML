{
  "nbformat": 4,
  "nbformat_minor": 0,
  "metadata": {
    "colab": {
      "provenance": [],
      "authorship_tag": "ABX9TyMfDO6tpfoptgd1/UNXvoE0",
      "include_colab_link": true
    },
    "kernelspec": {
      "name": "python3",
      "display_name": "Python 3"
    },
    "language_info": {
      "name": "python"
    }
  },
  "cells": [
    {
      "cell_type": "markdown",
      "metadata": {
        "id": "view-in-github",
        "colab_type": "text"
      },
      "source": [
        "<a href=\"https://colab.research.google.com/github/Devankshi12/ML/blob/main/polynimial_regression_implementation.ipynb\" target=\"_parent\"><img src=\"https://colab.research.google.com/assets/colab-badge.svg\" alt=\"Open In Colab\"/></a>"
      ]
    },
    {
      "cell_type": "code",
      "execution_count": null,
      "metadata": {
        "id": "c3lek5fOcY2r"
      },
      "outputs": [],
      "source": [
        "##importing libraries\n",
        "import numpy as np\n",
        "import pandas as pd\n",
        "import matplotlib.pyplot as plt\n",
        "%matplotlib inline"
      ]
    },
    {
      "cell_type": "code",
      "source": [
        "X=6*np.random.rand(100,1)-3\n",
        "y=0.5*X**2+1.5*X +2+np.random.rand(100,1)\n",
        "##quadratic equation used-y=0.5x^2+1.5x+2 outliers\n",
        "plt.scatter(X,y,color='b')\n",
        "plt.xlabel('X dataset')\n",
        "plt.ylabel('Y dataset')"
      ],
      "metadata": {
        "colab": {
          "base_uri": "https://localhost:8080/",
          "height": 467
        },
        "id": "95joLQNFcmAV",
        "outputId": "2fcb1671-1403-4a22-9c19-591554959ee8"
      },
      "execution_count": null,
      "outputs": [
        {
          "output_type": "execute_result",
          "data": {
            "text/plain": [
              "Text(0, 0.5, 'Y dataset')"
            ]
          },
          "metadata": {},
          "execution_count": 18
        },
        {
          "output_type": "display_data",
          "data": {
            "text/plain": [
              "<Figure size 640x480 with 1 Axes>"
            ],
            "image/png": "[encoded data removed]"
          },
          "metadata": {}
        }
      ]
    },
    {
      "cell_type": "code",
      "source": [
        "from sklearn.model_selection import train_test_split\n",
        "X_train,X_test,y_train,y_test=train_test_split(X,y,test_size=0.2,random_state=42)"
      ],
      "metadata": {
        "id": "hTqwjAH3dfMT"
      },
      "execution_count": null,
      "outputs": []
    },
    {
      "cell_type": "code",
      "source": [
        "#lets implement simple linear regression\n",
        "from sklearn.linear_model import LinearRegression\n",
        "regression_1=LinearRegression()"
      ],
      "metadata": {
        "id": "YrBAgHWkerzD"
      },
      "execution_count": null,
      "outputs": []
    },
    {
      "cell_type": "code",
      "source": [
        "regression_1.fit(X_train,y_train)"
      ],
      "metadata": {
        "colab": {
          "base_uri": "https://localhost:8080/",
          "height": 74
        },
        "id": "-z7zYnNffncb",
        "outputId": "46902a13-ddaa-45c6-c5ae-07bdb2491490"
      },
      "execution_count": null,
      "outputs": [
        {
          "output_type": "execute_result",
          "data": {
            "text/plain": [
              "LinearRegression()"
            ],
            "text/html": [
              "<style>#sk-container-id-2 {color: black;}#sk-container-id-2 pre{padding: 0;}#sk-container-id-2 div.sk-toggleable {background-color: white;}#sk-container-id-2 label.sk-toggleable__label {cursor: pointer;display: block;width: 100%;margin-bottom: 0;padding: 0.3em;box-sizing: border-box;text-align: center;}#sk-container-id-2 label.sk-toggleable__label-arrow:before {content: \"▸\";float: left;margin-right: 0.25em;color: #696969;}#sk-container-id-2 label.sk-toggleable__label-arrow:hover:before {color: black;}#sk-container-id-2 div.sk-estimator:hover label.sk-toggleable__label-arrow:before {color: black;}#sk-container-id-2 div.sk-toggleable__content {max-height: 0;max-width: 0;overflow: hidden;text-align: left;background-color: #f0f8ff;}#sk-container-id-2 div.sk-toggleable__content pre {margin: 0.2em;color: black;border-radius: 0.25em;background-color: #f0f8ff;}#sk-container-id-2 input.sk-toggleable__control:checked~div.sk-toggleable__content {max-height: 200px;max-width: 100%;overflow: auto;}#sk-container-id-2 input.sk-toggleable__control:checked~label.sk-toggleable__label-arrow:before {content: \"▾\";}#sk-container-id-2 div.sk-estimator input.sk-toggleable__control:checked~label.sk-toggleable__label {background-color: #d4ebff;}#sk-container-id-2 div.sk-label input.sk-toggleable__control:checked~label.sk-toggleable__label {background-color: #d4ebff;}#sk-container-id-2 input.sk-hidden--visually {border: 0;clip: rect(1px 1px 1px 1px);clip: rect(1px, 1px, 1px, 1px);height: 1px;margin: -1px;overflow: hidden;padding: 0;position: absolute;width: 1px;}#sk-container-id-2 div.sk-estimator {font-family: monospace;background-color: #f0f8ff;border: 1px dotted black;border-radius: 0.25em;box-sizing: border-box;margin-bottom: 0.5em;}#sk-container-id-2 div.sk-estimator:hover {background-color: #d4ebff;}#sk-container-id-2 div.sk-parallel-item::after {content: \"\";width: 100%;border-bottom: 1px solid gray;flex-grow: 1;}#sk-container-id-2 div.sk-label:hover label.sk-toggleable__label {background-color: #d4ebff;}#sk-container-id-2 div.sk-serial::before {content: \"\";position: absolute;border-left: 1px solid gray;box-sizing: border-box;top: 0;bottom: 0;left: 50%;z-index: 0;}#sk-container-id-2 div.sk-serial {display: flex;flex-direction: column;align-items: center;background-color: white;padding-right: 0.2em;padding-left: 0.2em;position: relative;}#sk-container-id-2 div.sk-item {position: relative;z-index: 1;}#sk-container-id-2 div.sk-parallel {display: flex;align-items: stretch;justify-content: center;background-color: white;position: relative;}#sk-container-id-2 div.sk-item::before, #sk-container-id-2 div.sk-parallel-item::before {content: \"\";position: absolute;border-left: 1px solid gray;box-sizing: border-box;top: 0;bottom: 0;left: 50%;z-index: -1;}#sk-container-id-2 div.sk-parallel-item {display: flex;flex-direction: column;z-index: 1;position: relative;background-color: white;}#sk-container-id-2 div.sk-parallel-item:first-child::after {align-self: flex-end;width: 50%;}#sk-container-id-2 div.sk-parallel-item:last-child::after {align-self: flex-start;width: 50%;}#sk-container-id-2 div.sk-parallel-item:only-child::after {width: 0;}#sk-container-id-2 div.sk-dashed-wrapped {border: 1px dashed gray;margin: 0 0.4em 0.5em 0.4em;box-sizing: border-box;padding-bottom: 0.4em;background-color: white;}#sk-container-id-2 div.sk-label label {font-family: monospace;font-weight: bold;display: inline-block;line-height: 1.2em;}#sk-container-id-2 div.sk-label-container {text-align: center;}#sk-container-id-2 div.sk-container {/* jupyter's `normalize.less` sets `[hidden] { display: none; }` but bootstrap.min.css set `[hidden] { display: none !important; }` so we also need the `!important` here to be able to override the default hidden behavior on the sphinx rendered scikit-learn.org. See: https://github.com/scikit-learn/scikit-learn/issues/21755 */display: inline-block !important;position: relative;}#sk-container-id-2 div.sk-text-repr-fallback {display: none;}</style><div id=\"sk-container-id-2\" class=\"sk-top-container\"><div class=\"sk-text-repr-fallback\"><pre>LinearRegression()</pre><b>In a Jupyter environment, please rerun this cell to show the HTML representation or trust the notebook. <br />On GitHub, the HTML representation is unable to render, please try loading this page with nbviewer.org.</b></div><div class=\"sk-container\" hidden><div class=\"sk-item\"><div class=\"sk-estimator sk-toggleable\"><input class=\"sk-toggleable__control sk-hidden--visually\" id=\"sk-estimator-id-2\" type=\"checkbox\" checked><label for=\"sk-estimator-id-2\" class=\"sk-toggleable__label sk-toggleable__label-arrow\">LinearRegression</label><div class=\"sk-toggleable__content\"><pre>LinearRegression()</pre></div></div></div></div></div>"
            ]
          },
          "metadata": {},
          "execution_count": 22
        }
      ]
    },
    {
      "cell_type": "code",
      "source": [
        "from sklearn.metrics import r2_score\n",
        "score=r2_score(y_test,regression_1.predict(X_test))\n",
        "print(score)"
      ],
      "metadata": {
        "colab": {
          "base_uri": "https://localhost:8080/"
        },
        "id": "g8mm9ShBfuqd",
        "outputId": "acad0761-8314-430c-af2a-a19e5fb482d1"
      },
      "execution_count": null,
      "outputs": [
        {
          "output_type": "stream",
          "name": "stdout",
          "text": [
            "0.7266708472666332\n"
          ]
        }
      ]
    },
    {
      "cell_type": "code",
      "source": [
        "##lets visualize\n",
        "plt.plot(X_train,regression_1.predict(X_train),color='r')\n",
        "plt.scatter(X_train,y_train)\n",
        "plt.xlabel(\"X Dataset\")\n",
        "plt.ylabel(\"Y\")"
      ],
      "metadata": {
        "colab": {
          "base_uri": "https://localhost:8080/",
          "height": 467
        },
        "id": "Nrho7xBkgDBj",
        "outputId": "85dfb5f0-f56b-44e8-c017-df879cd16e61"
      },
      "execution_count": null,
      "outputs": [
        {
          "output_type": "execute_result",
          "data": {
            "text/plain": [
              "Text(0, 0.5, 'Y')"
            ]
          },
          "metadata": {},
          "execution_count": 24
        },
        {
          "output_type": "display_data",
          "data": {
            "text/plain": [
              "<Figure size 640x480 with 1 Axes>"
            ],
            "image/png": "[encoded data removed]"
          },
          "metadata": {}
        }
      ]
    },
    {
      "cell_type": "code",
      "source": [
        "#lets apply polynomial transformation\n",
        "from sklearn.preprocessing import PolynomialFeatures"
      ],
      "metadata": {
        "id": "O-_VMwl6gmDZ"
      },
      "execution_count": null,
      "outputs": []
    },
    {
      "cell_type": "code",
      "source": [
        "poly=PolynomialFeatures(degree=2,include_bias=True)\n",
        "X_train_poly=poly.fit_transform(X_train)\n",
        "X_test_poly=poly.transform(X_test)"
      ],
      "metadata": {
        "id": "rv93gxpmiZfn"
      },
      "execution_count": null,
      "outputs": []
    },
    {
      "cell_type": "code",
      "source": [
        "X_train_poly"
      ],
      "metadata": {
        "colab": {
          "base_uri": "https://localhost:8080/"
        },
        "id": "Ak3VqCrAjLOW",
        "outputId": "ae34259d-670b-4442-c51a-3f613c5fdee4"
      },
      "execution_count": null,
      "outputs": [
        {
          "output_type": "execute_result",
          "data": {
            "text/plain": [
              "array([[ 1.00000000e+00,  3.42788307e-01,  1.17503823e-01],\n",
              "       [ 1.00000000e+00, -2.70240268e+00,  7.30298025e+00],\n",
              "       [ 1.00000000e+00, -2.56675448e+00,  6.58822857e+00],\n",
              "       [ 1.00000000e+00, -2.29622321e+00,  5.27264102e+00],\n",
              "       [ 1.00000000e+00,  1.63869598e+00,  2.68532451e+00],\n",
              "       [ 1.00000000e+00, -3.17338608e-01,  1.00703792e-01],\n",
              "       [ 1.00000000e+00,  5.06520622e-01,  2.56563140e-01],\n",
              "       [ 1.00000000e+00, -1.19234419e+00,  1.42168466e+00],\n",
              "       [ 1.00000000e+00,  1.18707094e-01,  1.40913743e-02],\n",
              "       [ 1.00000000e+00,  2.35648791e+00,  5.55303527e+00],\n",
              "       [ 1.00000000e+00, -2.17222224e+00,  4.71854944e+00],\n",
              "       [ 1.00000000e+00,  2.02074842e+00,  4.08342419e+00],\n",
              "       [ 1.00000000e+00,  5.38540422e-01,  2.90025786e-01],\n",
              "       [ 1.00000000e+00,  2.04608647e+00,  4.18646986e+00],\n",
              "       [ 1.00000000e+00, -2.05449664e+00,  4.22095646e+00],\n",
              "       [ 1.00000000e+00, -2.43039570e+00,  5.90682326e+00],\n",
              "       [ 1.00000000e+00,  1.55109344e+00,  2.40589087e+00],\n",
              "       [ 1.00000000e+00,  1.63535912e+00,  2.67439944e+00],\n",
              "       [ 1.00000000e+00,  2.75117099e+00,  7.56894179e+00],\n",
              "       [ 1.00000000e+00, -3.14059626e-02,  9.86334490e-04],\n",
              "       [ 1.00000000e+00,  4.22274502e-01,  1.78315755e-01],\n",
              "       [ 1.00000000e+00,  1.39823997e+00,  1.95507502e+00],\n",
              "       [ 1.00000000e+00, -1.50440888e+00,  2.26324607e+00],\n",
              "       [ 1.00000000e+00, -2.94563429e+00,  8.67676139e+00],\n",
              "       [ 1.00000000e+00,  1.65384164e+00,  2.73519216e+00],\n",
              "       [ 1.00000000e+00,  5.59762128e-01,  3.13333640e-01],\n",
              "       [ 1.00000000e+00, -6.14680560e-02,  3.77832190e-03],\n",
              "       [ 1.00000000e+00,  2.90770156e+00,  8.45472835e+00],\n",
              "       [ 1.00000000e+00,  1.76292319e+00,  3.10789819e+00],\n",
              "       [ 1.00000000e+00,  1.72510368e+00,  2.97598270e+00],\n",
              "       [ 1.00000000e+00,  2.66371900e+00,  7.09539891e+00],\n",
              "       [ 1.00000000e+00, -2.40996406e+00,  5.80792677e+00],\n",
              "       [ 1.00000000e+00,  1.98321675e+00,  3.93314867e+00],\n",
              "       [ 1.00000000e+00,  1.65292914e+00,  2.73217474e+00],\n",
              "       [ 1.00000000e+00,  2.41114378e+00,  5.81361431e+00],\n",
              "       [ 1.00000000e+00,  1.29830761e+00,  1.68560264e+00],\n",
              "       [ 1.00000000e+00, -1.72390505e+00,  2.97184861e+00],\n",
              "       [ 1.00000000e+00,  2.48571563e+00,  6.17878218e+00],\n",
              "       [ 1.00000000e+00,  5.76165386e-01,  3.31966552e-01],\n",
              "       [ 1.00000000e+00, -5.39060371e-01,  2.90586084e-01],\n",
              "       [ 1.00000000e+00, -6.24469534e-01,  3.89962199e-01],\n",
              "       [ 1.00000000e+00, -1.91436086e+00,  3.66477750e+00],\n",
              "       [ 1.00000000e+00, -1.08388530e+00,  1.17480735e+00],\n",
              "       [ 1.00000000e+00,  1.83692512e+00,  3.37429389e+00],\n",
              "       [ 1.00000000e+00, -2.15774987e+00,  4.65588450e+00],\n",
              "       [ 1.00000000e+00,  2.28303675e+00,  5.21225679e+00],\n",
              "       [ 1.00000000e+00,  5.81623789e-01,  3.38286232e-01],\n",
              "       [ 1.00000000e+00,  2.49200586e+00,  6.21009319e+00],\n",
              "       [ 1.00000000e+00, -1.46197726e+00,  2.13737751e+00],\n",
              "       [ 1.00000000e+00, -9.14750140e-01,  8.36767818e-01],\n",
              "       [ 1.00000000e+00,  4.78701103e-01,  2.29154746e-01],\n",
              "       [ 1.00000000e+00,  1.27028016e-01,  1.61361169e-02],\n",
              "       [ 1.00000000e+00, -1.38045893e+00,  1.90566687e+00],\n",
              "       [ 1.00000000e+00,  4.16297375e-01,  1.73303504e-01],\n",
              "       [ 1.00000000e+00, -1.93417305e+00,  3.74102539e+00],\n",
              "       [ 1.00000000e+00,  7.20313578e-01,  5.18851651e-01],\n",
              "       [ 1.00000000e+00,  1.96277114e+00,  3.85247055e+00],\n",
              "       [ 1.00000000e+00, -2.38694733e+00,  5.69751757e+00],\n",
              "       [ 1.00000000e+00,  1.49449482e+00,  2.23351477e+00],\n",
              "       [ 1.00000000e+00,  1.00362760e+00,  1.00726837e+00],\n",
              "       [ 1.00000000e+00,  4.60802278e-02,  2.12338739e-03],\n",
              "       [ 1.00000000e+00, -9.87997709e-01,  9.76139474e-01],\n",
              "       [ 1.00000000e+00,  2.72463653e+00,  7.42364421e+00],\n",
              "       [ 1.00000000e+00, -1.11275260e+00,  1.23821835e+00],\n",
              "       [ 1.00000000e+00, -1.62611842e+00,  2.64426110e+00],\n",
              "       [ 1.00000000e+00,  1.87589022e+00,  3.51896412e+00],\n",
              "       [ 1.00000000e+00,  1.14434534e+00,  1.30952626e+00],\n",
              "       [ 1.00000000e+00,  7.74982637e-01,  6.00598087e-01],\n",
              "       [ 1.00000000e+00, -2.72716226e+00,  7.43741401e+00],\n",
              "       [ 1.00000000e+00, -7.19418626e-01,  5.17563160e-01],\n",
              "       [ 1.00000000e+00, -5.48716705e-01,  3.01090023e-01],\n",
              "       [ 1.00000000e+00, -1.90186929e+00,  3.61710679e+00],\n",
              "       [ 1.00000000e+00, -2.55417372e+00,  6.52380339e+00],\n",
              "       [ 1.00000000e+00, -2.09481525e+00,  4.38825093e+00],\n",
              "       [ 1.00000000e+00, -1.55001606e+00,  2.40254979e+00],\n",
              "       [ 1.00000000e+00, -2.05740507e-01,  4.23291564e-02],\n",
              "       [ 1.00000000e+00,  9.90003965e-01,  9.80107851e-01],\n",
              "       [ 1.00000000e+00, -2.52070487e+00,  6.35395306e+00],\n",
              "       [ 1.00000000e+00, -1.38250314e+00,  1.91131493e+00],\n",
              "       [ 1.00000000e+00,  1.09062681e+00,  1.18946684e+00]])"
            ]
          },
          "metadata": {},
          "execution_count": 28
        }
      ]
    },
    {
      "cell_type": "code",
      "source": [
        "from sklearn.metrics import r2_score\n",
        "regression = LinearRegression()\n",
        "regression.fit(X_train_poly,y_train)\n",
        "y_pred = regression.predict(X_test_poly)\n",
        "score=r2_score(y_test,y_pred)\n",
        "print(score)"
      ],
      "metadata": {
        "colab": {
          "base_uri": "https://localhost:8080/"
        },
        "id": "AGLhrhpRjQZD",
        "outputId": "05c059f7-2c38-4429-ea28-ac7fb6a91f11"
      },
      "execution_count": null,
      "outputs": [
        {
          "output_type": "stream",
          "name": "stdout",
          "text": [
            "0.9886495503112968\n"
          ]
        }
      ]
    },
    {
      "cell_type": "code",
      "source": [
        "print(regression.coef_)"
      ],
      "metadata": {
        "colab": {
          "base_uri": "https://localhost:8080/"
        },
        "id": "28aN7bdPj3z3",
        "outputId": "bdc69066-78f9-45de-a8aa-ca8727630858"
      },
      "execution_count": null,
      "outputs": [
        {
          "output_type": "stream",
          "name": "stdout",
          "text": [
            "[[0.         1.50943549 0.49521365]]\n"
          ]
        }
      ]
    },
    {
      "cell_type": "code",
      "source": [
        "print(regression.intercept_)"
      ],
      "metadata": {
        "colab": {
          "base_uri": "https://localhost:8080/"
        },
        "id": "0uGMBPmzj-iI",
        "outputId": "968ac73e-236f-4d56-928e-dd0aeeb0debc"
      },
      "execution_count": null,
      "outputs": [
        {
          "output_type": "stream",
          "name": "stdout",
          "text": [
            "[2.53407417]\n"
          ]
        }
      ]
    },
    {
      "cell_type": "code",
      "source": [
        "plt.scatter(X_train,regression.predict(X_train_poly))\n",
        "plt.scatter(X_train,y_train)"
      ],
      "metadata": {
        "colab": {
          "base_uri": "https://localhost:8080/",
          "height": 448
        },
        "id": "Tcf51uFLkEuv",
        "outputId": "ba1771c9-037d-4ee4-b9ff-193b08c8130e"
      },
      "execution_count": null,
      "outputs": [
        {
          "output_type": "execute_result",
          "data": {
            "text/plain": [
              "<matplotlib.collections.PathCollection at 0x7d891f1716f0>"
            ]
          },
          "metadata": {},
          "execution_count": 34
        },
        {
          "output_type": "display_data",
          "data": {
            "text/plain": [
              "<Figure size 640x480 with 1 Axes>"
            ],
            "image/png": "[encoded data removed]"
          },
          "metadata": {}
        }
      ]
    },
    {
      "cell_type": "code",
      "source": [],
      "metadata": {
        "id": "dt1V_4UzkkH6"
      },
      "execution_count": null,
      "outputs": []
    }
  ]
}