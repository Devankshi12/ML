{
  "nbformat": 4,
  "nbformat_minor": 0,
  "metadata": {
    "colab": {
      "provenance": [],
      "authorship_tag": "ABX9TyPTSig/cP7qjfCTtGShZPsa",
      "include_colab_link": true
    },
    "kernelspec": {
      "name": "python3",
      "display_name": "Python 3"
    },
    "language_info": {
      "name": "python"
    }
  },
  "cells": [
    {
      "cell_type": "markdown",
      "metadata": {
        "id": "view-in-github",
        "colab_type": "text"
      },
      "source": [
        "<a href=\"https://colab.research.google.com/github/Devankshi12/ML/blob/main/multilogger.ipynb\" target=\"_parent\"><img src=\"https://colab.research.google.com/assets/colab-badge.svg\" alt=\"Open In Colab\"/></a>"
      ]
    },
    {
      "cell_type": "code",
      "execution_count": 2,
      "metadata": {
        "id": "wmDnvo-C2_JI"
      },
      "outputs": [],
      "source": [
        "import logging\n",
        "#create a logger for module1\n",
        "logger1=logging.getLogger(\"module1\")\n",
        "logger1.setLevel(logging.DEBUG)\n",
        "\n",
        "#create a logger for module 2\n",
        "\n",
        "logger2=logging.getLogger(\"module2\")\n",
        "logger2.setLevel(logging.WARNING)\n",
        "\n",
        "#configure logging settings\n",
        "logging.basicConfig(\n",
        "    level=logging.DEBUG,\n",
        "    format='%(asctime)s -%(name)s-%(levelname)s-%1(message)s',\n",
        "    datefmt='%Y-%m-%d %H:%M:%S'\n",
        ")"
      ]
    },
    {
      "cell_type": "code",
      "source": [
        "#log msgs with different loggers\n",
        "logger1.debug(\"this is debug msg for module 1\")\n",
        "logger2.warning(\"this is warning msg for module2\")\n",
        "logger2.error(\"this is error msg\")"
      ],
      "metadata": {
        "colab": {
          "base_uri": "https://localhost:8080/"
        },
        "id": "ILuoXryB4LUN",
        "outputId": "20af25f9-e0ab-40c7-83f2-7bdb65a9551c"
      },
      "execution_count": 3,
      "outputs": [
        {
          "output_type": "stream",
          "name": "stderr",
          "text": [
            "DEBUG:module1:this is debug msg for module 1\n",
            "WARNING:module2:this is warning msg for module2\n",
            "ERROR:module2:this is error msg\n"
          ]
        }
      ]
    },
    {
      "cell_type": "code",
      "source": [],
      "metadata": {
        "id": "KOTe8lAF4rU2"
      },
      "execution_count": null,
      "outputs": []
    }
  ]
}